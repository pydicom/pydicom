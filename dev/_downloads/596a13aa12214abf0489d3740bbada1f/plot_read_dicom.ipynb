{
  "cells": [
    {
      "cell_type": "markdown",
      "metadata": {},
      "source": [
        "\n# Read a Dataset and plot Pixel Data\n\nThis example illustrates how to open a DICOM file, print some dataset\ninformation, and show it using matplotlib.\n"
      ]
    },
    {
      "cell_type": "code",
      "execution_count": null,
      "metadata": {
        "collapsed": false
      },
      "outputs": [],
      "source": [
        "# authors : Guillaume Lemaitre <g.lemaitre58@gmail.com>\n# license : MIT\n\nimport matplotlib.pyplot as plt\nfrom pydicom import dcmread\nfrom pydicom.data import get_testdata_file\n\npath = get_testdata_file(\"CT_small.dcm\")\nds = dcmread(path)\n\n# Normal mode:\nprint()\nprint(f\"File path........: {path}\")\nprint(f\"SOP Class........: {ds.SOPClassUID} ({ds.SOPClassUID.name})\")\nprint()\n\npat_name = ds.PatientName\nprint(f\"Patient's Name...: {pat_name.family_comma_given()}\")\nprint(f\"Patient ID.......: {ds.PatientID}\")\nprint(f\"Modality.........: {ds.Modality}\")\nprint(f\"Study Date.......: {ds.StudyDate}\")\nprint(f\"Image size.......: {ds.Rows} x {ds.Columns}\")\nprint(f\"Pixel Spacing....: {ds.PixelSpacing}\")\n\n# use .get() if not sure the item exists, and want a default value if missing\nprint(f\"Slice location...: {ds.get('SliceLocation', '(missing)')}\")\n\n# plot the image using matplotlib\nplt.imshow(ds.pixel_array, cmap=plt.cm.gray)\nplt.show()"
      ]
    }
  ],
  "metadata": {
    "kernelspec": {
      "display_name": "Python 3",
      "language": "python",
      "name": "python3"
    },
    "language_info": {
      "codemirror_mode": {
        "name": "ipython",
        "version": 3
      },
      "file_extension": ".py",
      "mimetype": "text/x-python",
      "name": "python",
      "nbconvert_exporter": "python",
      "pygments_lexer": "ipython3",
      "version": "3.11.13"
    }
  },
  "nbformat": 4,
  "nbformat_minor": 0
}