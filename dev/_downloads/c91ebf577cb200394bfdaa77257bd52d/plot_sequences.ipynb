{
  "cells": [
    {
      "cell_type": "markdown",
      "metadata": {},
      "source": [
        "\n# Working with sequences\n\nThis examples illustrates how to work with sequences.\n"
      ]
    },
    {
      "cell_type": "code",
      "execution_count": null,
      "metadata": {
        "collapsed": false
      },
      "outputs": [],
      "source": [
        "from pydicom.sequence import Sequence\nfrom pydicom.dataset import Dataset\n\n# create to toy datasets\nblock_ds1 = Dataset()\nblock_ds1.BlockType = \"APERTURE\"\nblock_ds1.BlockName = \"Block1\"\n\nblock_ds2 = Dataset()\nblock_ds2.BlockType = \"APERTURE\"\nblock_ds2.BlockName = \"Block2\"\n\nbeam = Dataset()\n# note that you should add beam data elements like BeamName, etc; these are\n# skipped in this example\nplan_ds = Dataset()\n# starting from scratch since we did not read a file\nplan_ds.BeamSequence = Sequence([beam])\nplan_ds.BeamSequence[0].BlockSequence = Sequence([block_ds1, block_ds2])\nplan_ds.BeamSequence[0].NumberOfBlocks = 2\n\nbeam0 = plan_ds.BeamSequence[0]\nprint(f\"Number of blocks: {beam0.BlockSequence}\")\n\n# create a new data set\nblock_ds3 = Dataset()\n# add data elements to it as above and don't forget to update Number of Blocks\n# data element\nbeam0.BlockSequence.append(block_ds3)\ndel plan_ds.BeamSequence[0].BlockSequence[1]"
      ]
    }
  ],
  "metadata": {
    "kernelspec": {
      "display_name": "Python 3",
      "language": "python",
      "name": "python3"
    },
    "language_info": {
      "codemirror_mode": {
        "name": "ipython",
        "version": 3
      },
      "file_extension": ".py",
      "mimetype": "text/x-python",
      "name": "python",
      "nbconvert_exporter": "python",
      "pygments_lexer": "ipython3",
      "version": "3.11.13"
    }
  },
  "nbformat": 4,
  "nbformat_minor": 0
}