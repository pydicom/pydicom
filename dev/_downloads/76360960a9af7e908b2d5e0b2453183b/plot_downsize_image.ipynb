{
  "cells": [
    {
      "cell_type": "markdown",
      "metadata": {},
      "source": [
        "\n# Downsize MRI image using pydicom\n\nThis example shows how to downsize an MR image from $512  imes 512$ to\n$64       imes 64$. The downsizing is performed by taking the central section\ninstead of averagin the pixels. Finally, the image is store as a dicom image.\n\n<div class=\"alert alert-info\"><h4>Note</h4><p>This example requires the Numpy library to manipulate the pixel data.</p></div>\n"
      ]
    },
    {
      "cell_type": "code",
      "execution_count": null,
      "metadata": {
        "collapsed": false
      },
      "outputs": [],
      "source": [
        "# authors : Guillaume Lemaitre <g.lemaitre58@gmail.com>\n# license : MIT\n\nfrom pydicom import examples\n\nprint(__doc__)\n\n# FIXME: add a full-sized MR image in the testing data\nds = examples.mr\n\n# get the pixel information into a numpy array\narr = ds.pixel_array\nprint(f\"The image has {arr.shape[0]} x {arr.shape[1]} voxels\")\narr_downsampled = arr[::8, ::8]\nprint(\n    f\"The downsampled image has {arr_downsampled.shape[0]} x {arr_downsampled.shape[1]} voxels\"\n)\n\n# copy the data back to the original data set\nds.PixelData = arr_downsampled.tobytes()\n# update the information regarding the shape of the data array\nds.Rows, ds.Columns = arr_downsampled.shape\n\n# print the image information given in the dataset\nprint(\"The information of the data set after downsampling: \\n\")\nprint(ds)"
      ]
    }
  ],
  "metadata": {
    "kernelspec": {
      "display_name": "Python 3",
      "language": "python",
      "name": "python3"
    },
    "language_info": {
      "codemirror_mode": {
        "name": "ipython",
        "version": 3
      },
      "file_extension": ".py",
      "mimetype": "text/x-python",
      "name": "python",
      "nbconvert_exporter": "python",
      "pygments_lexer": "ipython3",
      "version": "3.11.13"
    }
  },
  "nbformat": 4,
  "nbformat_minor": 0
}