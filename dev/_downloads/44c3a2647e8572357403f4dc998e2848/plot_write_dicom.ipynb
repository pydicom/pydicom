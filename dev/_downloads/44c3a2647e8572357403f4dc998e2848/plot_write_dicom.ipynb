{
  "cells": [
    {
      "cell_type": "markdown",
      "metadata": {},
      "source": [
        "\n# Write DICOM data\n\nThis example shows how to write a DICOM file from scratch using pydicom. This\nexample does not produce a DICOM standards compliant file as written, you will\nhave to change UIDs to valid values and add all required DICOM data elements.\n"
      ]
    },
    {
      "cell_type": "code",
      "execution_count": null,
      "metadata": {
        "collapsed": false
      },
      "outputs": [],
      "source": [
        "# authors : Darcy Mason, Guillaume Lemaitre <g.lemaitre58@gmail.com>\n# license : MIT\n\nimport datetime\nfrom pathlib import Path\nimport tempfile\n\nimport pydicom\nfrom pydicom.dataset import Dataset, FileMetaDataset\nfrom pydicom.uid import UID, ExplicitVRLittleEndian\n\n\nprint(\"Setting dataset values...\")\nds = Dataset()\nds.PatientName = \"Test^Firstname\"\nds.PatientID = \"123456\"\n# Set creation date/time\ndt = datetime.datetime.now()\nds.ContentDate = dt.strftime(\"%Y%m%d\")\nds.ContentTime = dt.strftime(\"%H%M%S.%f\")  # long format with micro seconds\n\nprint(\"Setting file meta information...\")\n# Populate required values for file meta information\nfile_meta = FileMetaDataset()\nfile_meta.MediaStorageSOPClassUID = UID(\"1.2.840.10008.5.1.4.1.1.2\")\nfile_meta.MediaStorageSOPInstanceUID = UID(\"1.2.3\")\nfile_meta.ImplementationClassUID = UID(\"1.2.3.4\")\nfile_meta.TransferSyntaxUID = ExplicitVRLittleEndian\n\n# Add the file meta information\nds.file_meta = file_meta\n\npath = Path(tempfile.NamedTemporaryFile(suffix=\".dcm\").name)\nprint(f\"Writing dataset to: {path}\")\nds.save_as(path, enforce_file_format=True)\n\n# reopen the data just for checking\nprint(f\"Load dataset from: {path} ...\")\nds = pydicom.dcmread(path)\nprint(ds)\n\n# remove the created file\nprint(f\"Deleting file: {path} ...\")\npath.unlink()"
      ]
    }
  ],
  "metadata": {
    "kernelspec": {
      "display_name": "Python 3",
      "language": "python",
      "name": "python3"
    },
    "language_info": {
      "codemirror_mode": {
        "name": "ipython",
        "version": 3
      },
      "file_extension": ".py",
      "mimetype": "text/x-python",
      "name": "python",
      "nbconvert_exporter": "python",
      "pygments_lexer": "ipython3",
      "version": "3.11.13"
    }
  },
  "nbformat": 4,
  "nbformat_minor": 0
}