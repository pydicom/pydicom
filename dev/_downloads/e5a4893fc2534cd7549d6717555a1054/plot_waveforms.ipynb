{
  "cells": [
    {
      "cell_type": "markdown",
      "metadata": {},
      "source": [
        "\n# Decode and plot Waveform Data\n\nThis example illustrates how to plot waveforms from a Waveform Sequence using\nmatplotlib.\n"
      ]
    },
    {
      "cell_type": "code",
      "execution_count": null,
      "metadata": {
        "collapsed": false
      },
      "outputs": [],
      "source": [
        "import numpy as np\nimport matplotlib.pyplot as plt\n\nfrom pydicom import examples\nfrom pydicom.waveforms import generate_multiplex\n\nds = examples.waveform\n\n# Plot the first channel of each multiplex\nch_idx = 0\n# We could also use ds.waveform_array()\nfig, axes = plt.subplots(len(ds.WaveformSequence))\ngenerator = generate_multiplex(ds, as_raw=False)\nfor ax, mplx, arr in zip(axes, ds.WaveformSequence, generator):\n    nr_channels = mplx.NumberOfWaveformChannels\n    nr_samples = mplx.NumberOfWaveformSamples\n    sampling_fq = mplx.SamplingFrequency  # in Hz\n    mplx_label = mplx.MultiplexGroupLabel\n\n    ch_item = mplx.ChannelDefinitionSequence[ch_idx]\n\n    x = np.arange(0, nr_samples / sampling_fq, 1 / sampling_fq)\n    x_units = \"seconds\"\n\n    # ChannelSensitivityUnitsSequence is type 1C, so check it's there\n    if \"ChannelSensitivityUnitsSequence\" in ch_item:\n        y_units = ch_item.ChannelSensitivityUnitsSequence[0].CodeMeaning\n    else:\n        y_units = \"unitless\"\n\n    # Description of the channel source\n    ch_source = ch_item.ChannelSourceSequence[0].CodeMeaning\n\n    ax.plot(x, arr[..., ch_idx])\n    ax.set_title(f\"{mplx_label}: {ch_source}\")\n    ax.set_xlabel(f\"({x_units})\")\n    ax.set_ylabel(f\"({y_units})\")\n\nfig.tight_layout(pad=1)\nplt.show()"
      ]
    }
  ],
  "metadata": {
    "kernelspec": {
      "display_name": "Python 3",
      "language": "python",
      "name": "python3"
    },
    "language_info": {
      "codemirror_mode": {
        "name": "ipython",
        "version": 3
      },
      "file_extension": ".py",
      "mimetype": "text/x-python",
      "name": "python",
      "nbconvert_exporter": "python",
      "pygments_lexer": "ipython3",
      "version": "3.11.13"
    }
  },
  "nbformat": 4,
  "nbformat_minor": 0
}