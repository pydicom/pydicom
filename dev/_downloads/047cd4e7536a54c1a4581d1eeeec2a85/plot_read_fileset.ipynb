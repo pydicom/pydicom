{
  "cells": [
    {
      "cell_type": "markdown",
      "metadata": {},
      "source": [
        "\n# Read a DICOM File-set\n\nThis example shows how to read and interact with a DICOM File-set.\n"
      ]
    },
    {
      "cell_type": "code",
      "execution_count": null,
      "metadata": {
        "collapsed": false
      },
      "outputs": [],
      "source": [
        "from pathlib import Path\nfrom tempfile import TemporaryDirectory\n\nfrom pydicom import examples\nfrom pydicom.data import get_testdata_file\nfrom pydicom.fileset import FileSet\nfrom pydicom.uid import generate_uid\n\n\npath = get_testdata_file(\"DICOMDIR\")\n# A File-set can be loaded from the path to its DICOMDIR dataset or the\n#   dataset itself\nfs = FileSet(path)  # or fs = FileSet(dcmread(path))\n\n# A summary of the File-set's contents can be seen when printing\nprint(fs)\nprint()\n\n# Iterating over the FileSet yields FileInstance objects\nfor instance in fs:\n    # Load the corresponding SOP Instance dataset\n    ds = instance.load()\n    # Do something with each dataset\n\n# We can search the File-set\npatient_ids = fs.find_values(\"PatientID\")\nfor patient_id in patient_ids:\n    # Returns a list of FileInstance, where each one represents an available\n    #   SOP Instance with a matching *Patient ID*\n    result = fs.find(PatientID=patient_id)\n    print(f\"PatientName={result[0].PatientName}, \" f\"PatientID={result[0].PatientID}\")\n\n    # Search available studies\n    study_uids = fs.find_values(\"StudyInstanceUID\", instances=result)\n    for study_uid in study_uids:\n        result = fs.find(PatientID=patient_id, StudyInstanceUID=study_uid)\n        print(\n            f\"  StudyDescription='{result[0].StudyDescription}', \"\n            f\"StudyDate={result[0].StudyDate}\"\n        )\n\n        # Search available series\n        series_uids = fs.find_values(\"SeriesInstanceUID\", instances=result)\n        for series_uid in series_uids:\n            result = fs.find(\n                PatientID=patient_id,\n                StudyInstanceUID=study_uid,\n                SeriesInstanceUID=series_uid,\n            )\n            plural = [\"\", \"s\"][len(result) > 1]\n\n            print(\n                f\"    Modality={result[0].Modality} - \"\n                f\"{len(result)} SOP Instance{plural}\"\n            )\n\n# Of course you can just get the instances directly if you know what you want\nseries_uid = \"1.3.6.1.4.1.5962.1.1.0.0.0.1196533885.18148.0.118\"\nresult = fs.find(SeriesInstanceUID=series_uid)\nprint(f\"\\nFound {len(result)} instances for SeriesInstanceUID={series_uid}\")\n\n# We can search the actual stored SOP Instances by using `load=True`\n# This can be useful as the DICOMDIR's directory records only contain a\n#   limited subset of the available elements, however its less efficient\nresult = fs.find(load=False, PhotometricInterpretation=\"MONOCHROME1\")\nresult_load = fs.find(load=True, PhotometricInterpretation=\"MONOCHROME1\")\nprint(\n    f\"Found {len(result)} instances with \"\n    f\"PhotometricInterpretation='MONOCHROME1' without loading the stored \"\n    f\"instances and {len(result_load)} instances with loading\"\n)\n\n# We can remove and add instances to the File-set\nfs.add(examples.ct)\nfs.add(examples.mr)\nresult = fs.find(StudyDescription=\"'XR C Spine Comp Min 4 Views'\")\nfs.remove(result)\n\n# To edit the elements in the DICOMDIR's File-set Identification Module\n#   (Part 3, Annex F.3.2.1) use the following properties:\n# (0004,1130) File-set ID\nfs.ID = \"MY FILESET\"\n# Change the File-set's UID\nfs.UID = generate_uid()\n# (0004,1141) File-set Descriptor File ID\nfs.descriptor_file_id = \"README\"\n# (0004,1142) Specific Character Set of File-set Descriptor File\nfs.descriptor_character_set = \"ISO_IR 100\"\n\n# Changes to the File-set are staged until write() is called\n# Calling write() will update the File-set's directory structure to meet the\n#   semantics used by pydicom File-sets (if required), add/remove instances and\n#   and re-write the DICOMDIR file\n# We don't do it here because it would overwrite your example data\n# fs.write()\n\n# Alternatively, the File-set can be copied to a new root directory\n#   This will apply any staged changes while leaving the original FileSet\n#   object unchanged\ntdir = TemporaryDirectory()\nnew_fileset = fs.copy(tdir.name)\nprint(f\"\\nOriginal File-set still at {fs.path}\")\nroot = Path(new_fileset.path)\nprint(f\"File-set copied to {root} and contains the following files:\")\n# Note how the original File-set directory layout has been changed to\n#   the structure used by pydicom\nfor p in sorted(root.glob(\"**/*\")):\n    if p.is_file():\n        print(f\"  {p.relative_to(root)}\")"
      ]
    }
  ],
  "metadata": {
    "kernelspec": {
      "display_name": "Python 3",
      "language": "python",
      "name": "python3"
    },
    "language_info": {
      "codemirror_mode": {
        "name": "ipython",
        "version": 3
      },
      "file_extension": ".py",
      "mimetype": "text/x-python",
      "name": "python",
      "nbconvert_exporter": "python",
      "pygments_lexer": "ipython3",
      "version": "3.11.13"
    }
  },
  "nbformat": 4,
  "nbformat_minor": 0
}