{
  "cells": [
    {
      "cell_type": "markdown",
      "metadata": {},
      "source": [
        "\n# Show a dicom file using hierarchical tree\nShow a dicom file using a hierarchical tree in a graphical window.\n"
      ]
    },
    {
      "cell_type": "code",
      "execution_count": null,
      "metadata": {
        "collapsed": false
      },
      "outputs": [],
      "source": [
        "from pathlib import Path\nimport sys\n\nimport tkinter as tk\nfrom tkinter import ttk\n\nimport pydicom\n\n\nprint(__doc__)\n\n\ndef build_tree(\n    tree: ttk.Treeview, ds: pydicom.Dataset, parent: str | None = None\n) -> None:\n    \"\"\"Build out the tree.\n\n    Parameters\n    ----------\n    tree : ttk.Treeview\n        The treeview object.\n    ds : pydicom.dataset.Dataset\n        The dataset object to add to the `tree`.\n    parent : str | None\n        The item ID of the parent item in the tree (if any), default ``None``.\n    \"\"\"\n    # For each DataElement in the current Dataset\n    for idx, elem in enumerate(ds):\n        tree_item = tree.insert(\"\", tk.END, text=str(elem))\n        if parent:\n            tree.move(tree_item, parent, idx)\n\n        if elem.VR == \"SQ\":\n            # DataElement is a sequence, containing 0 or more Datasets\n            for seq_idx, seq_item in enumerate(elem.value):\n                tree_seq_item = tree.insert(\n                    \"\", tk.END, text=f\"{elem.name} Item {seq_idx + 1}\"\n                )\n                tree.move(tree_seq_item, tree_item, seq_idx)\n\n                # Recurse into the sequence item(s)\n                build_tree(tree, seq_item, tree_seq_item)\n\n\nif __name__ == \"__main__\":\n    if len(sys.argv) != 2:\n        print(\"Please supply the path to a DICOM file: python dicomtree.py path\")\n        sys.exit(-1)\n\n    # Read the supplied DICOM dataset\n    path = Path(sys.argv[1]).resolve(strict=True)\n    ds = pydicom.dcmread(path)\n\n    # Create the root Tk widget\n    root = tk.Tk()\n    root.geometry(\"1200x900\")\n    root.title(f\"DICOM tree viewer - {path.name}\")\n    root.rowconfigure(0, weight=1)\n    root.columnconfigure(0, weight=1)\n\n    # Use a monospaced font\n    s = ttk.Style()\n    s.theme_use(\"clam\")\n    s.configure(\"Treeview\", font=(\"Courier\", 12))\n\n    # Create the tree and populate it\n    tree = ttk.Treeview(root)\n    build_tree(tree, ds, None)\n    tree.grid(row=0, column=0, sticky=tk.NSEW)\n\n    # Start the DICOM tree widget\n    root.mainloop()"
      ]
    }
  ],
  "metadata": {
    "kernelspec": {
      "display_name": "Python 3",
      "language": "python",
      "name": "python3"
    },
    "language_info": {
      "codemirror_mode": {
        "name": "ipython",
        "version": 3
      },
      "file_extension": ".py",
      "mimetype": "text/x-python",
      "name": "python",
      "nbconvert_exporter": "python",
      "pygments_lexer": "ipython3",
      "version": "3.11.13"
    }
  },
  "nbformat": 4,
  "nbformat_minor": 0
}