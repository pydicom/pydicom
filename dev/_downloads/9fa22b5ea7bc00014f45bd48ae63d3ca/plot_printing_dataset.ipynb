{
  "cells": [
    {
      "cell_type": "markdown",
      "metadata": {},
      "source": [
        "\n# Format the output of the data set printing\n\nThis example illustrates how to print the data set in your own format.\n"
      ]
    },
    {
      "cell_type": "code",
      "execution_count": null,
      "metadata": {
        "collapsed": false
      },
      "outputs": [],
      "source": [
        "# authors : Guillaume Lemaitre <g.lemaitre58@gmail.com>\n# license : MIT\n\nfrom pydicom import examples\n\nprint(__doc__)\n\n\ndef myprint(ds, indent=0):\n    \"\"\"Go through all items in the dataset and print them with custom format\n\n    Modelled after Dataset._pretty_str()\n    \"\"\"\n    dont_print = [\"Pixel Data\", \"File Meta Information Version\"]\n\n    indent_string = \"   \" * indent\n    next_indent_string = \"   \" * (indent + 1)\n\n    for elem in ds:\n        if elem.VR == \"SQ\":  # a sequence\n            print(indent_string, elem.name)\n            for sequence_item in elem.value:\n                myprint(sequence_item, indent + 1)\n                print(next_indent_string + \"---------\")\n        else:\n            if elem.name in dont_print:\n                print(\"\"\"<item not printed -- in the \"don't print\" list>\"\"\")\n            else:\n                repr_value = repr(elem.value)\n                if len(repr_value) > 50:\n                    repr_value = repr_value[:50] + \"...\"\n                print(f\"{indent_string} {elem.name} = {repr_value}\")\n\n\nds = examples.mr\nmyprint(ds)"
      ]
    }
  ],
  "metadata": {
    "kernelspec": {
      "display_name": "Python 3",
      "language": "python",
      "name": "python3"
    },
    "language_info": {
      "codemirror_mode": {
        "name": "ipython",
        "version": 3
      },
      "file_extension": ".py",
      "mimetype": "text/x-python",
      "name": "python",
      "nbconvert_exporter": "python",
      "pygments_lexer": "ipython3",
      "version": "3.11.13"
    }
  },
  "nbformat": 4,
  "nbformat_minor": 0
}