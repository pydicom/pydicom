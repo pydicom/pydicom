{
  "cells": [
    {
      "cell_type": "markdown",
      "metadata": {},
      "source": [
        "\n# Load CT slices and plot axial, sagittal and coronal images\n\nThis example illustrates loading multiple files, sorting them by slice\nlocation, building a 3D image and reslicing it in different planes.\n\n.. usage:\n\n   reslice.py <glob>\n   where <glob> refers to a set of DICOM image files.\n\n   Example: python reslice.py \"*.dcm\". The quotes are needed to protect\n   the glob from your system and leave it for the script.\n\n.. note:\n\n   Uses numpy and matplotlib.\n\n   Tested using series 2 from here\n   https://www.pcir.org/researchers/54879843_20060101.html\n"
      ]
    },
    {
      "cell_type": "code",
      "execution_count": null,
      "metadata": {
        "collapsed": false
      },
      "outputs": [],
      "source": [
        "import pydicom\nimport numpy as np\nimport matplotlib.pyplot as plt\nimport sys\nimport glob\n\n# load the DICOM files\nfiles = []\nprint(f\"glob: {sys.argv[1]}\")\nfor fname in glob.glob(sys.argv[1], recursive=False):\n    print(f\"loading: {fname}\")\n    files.append(pydicom.dcmread(fname))\n\nprint(f\"file count: {len(files)}\")\n\n# skip files with no SliceLocation (eg scout views)\nslices = []\nskipcount = 0\nfor f in files:\n    if hasattr(f, \"SliceLocation\"):\n        slices.append(f)\n    else:\n        skipcount = skipcount + 1\n\nprint(f\"skipped, no SliceLocation: {skipcount}\")\n\n# ensure they are in the correct order\nslices = sorted(slices, key=lambda s: s.SliceLocation)\n\n# pixel aspects, assuming all slices are the same\nps = slices[0].PixelSpacing\nss = slices[0].SliceThickness\nax_aspect = ps[1] / ps[0]\nsag_aspect = ps[1] / ss\ncor_aspect = ss / ps[0]\n\n# create 3D array\nimg_shape = list(slices[0].pixel_array.shape)\nimg_shape.append(len(slices))\nimg3d = np.zeros(img_shape)\n\n# fill 3D array with the images from the files\nfor i, s in enumerate(slices):\n    img2d = s.pixel_array\n    img3d[:, :, i] = img2d\n\n# plot 3 orthogonal slices\na1 = plt.subplot(2, 2, 1)\nplt.imshow(img3d[:, :, img_shape[2] // 2])\na1.set_aspect(ax_aspect)\n\na2 = plt.subplot(2, 2, 2)\nplt.imshow(img3d[:, img_shape[1] // 2, :])\na2.set_aspect(sag_aspect)\n\na3 = plt.subplot(2, 2, 3)\nplt.imshow(img3d[img_shape[0] // 2, :, :].T)\na3.set_aspect(cor_aspect)\n\nplt.show()"
      ]
    }
  ],
  "metadata": {
    "kernelspec": {
      "display_name": "Python 3",
      "language": "python",
      "name": "python3"
    },
    "language_info": {
      "codemirror_mode": {
        "name": "ipython",
        "version": 3
      },
      "file_extension": ".py",
      "mimetype": "text/x-python",
      "name": "python",
      "nbconvert_exporter": "python",
      "pygments_lexer": "ipython3",
      "version": "3.11.13"
    }
  },
  "nbformat": 4,
  "nbformat_minor": 0
}