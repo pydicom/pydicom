{
  "cells": [
    {
      "cell_type": "markdown",
      "metadata": {},
      "source": [
        "\n# Analyse differences between DICOM files\n\nThis examples illustrates how to find the differences between two DICOM files.\n"
      ]
    },
    {
      "cell_type": "code",
      "execution_count": null,
      "metadata": {
        "collapsed": false
      },
      "outputs": [],
      "source": [
        "# authors : Guillaume Lemaitre <g.lemaitre58@gmail.com>\n# license : MIT\n\nimport difflib\n\nfrom pydicom import examples\n\nprint(__doc__)\n\n# difflib compare functions require a list of lines, each terminated with\n# newline character massage the string representation of each dicom dataset\n# into this form:\nrep = []\nfor ds in [examples.mr, examples.ct]:\n    lines = str(ds).split(\"\\n\")\n    lines = [line + \"\\n\" for line in lines]  # add the newline to end\n    rep.append(lines)\n\n\ndiff = difflib.Differ()\nfor line in diff.compare(rep[0], rep[1]):\n    if line[0] != \"?\":\n        print(line)"
      ]
    }
  ],
  "metadata": {
    "kernelspec": {
      "display_name": "Python 3",
      "language": "python",
      "name": "python3"
    },
    "language_info": {
      "codemirror_mode": {
        "name": "ipython",
        "version": 3
      },
      "file_extension": ".py",
      "mimetype": "text/x-python",
      "name": "python",
      "nbconvert_exporter": "python",
      "pygments_lexer": "ipython3",
      "version": "3.11.13"
    }
  },
  "nbformat": 4,
  "nbformat_minor": 0
}