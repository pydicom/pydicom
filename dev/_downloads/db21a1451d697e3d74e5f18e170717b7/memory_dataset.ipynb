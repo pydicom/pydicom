{
  "cells": [
    {
      "cell_type": "markdown",
      "metadata": {},
      "source": [
        "\n# Show working with memory-based dataset\n\nShow how to write a DICOM dataset into a byte array and to read\nit back from a byte array. This can be helpful for example if working with\ndatasets saved as blobs in a database.\n"
      ]
    },
    {
      "cell_type": "code",
      "execution_count": null,
      "metadata": {
        "collapsed": false
      },
      "outputs": [],
      "source": [
        "from io import BytesIO\n\nfrom pydicom import dcmread, dcmwrite, Dataset\nfrom pydicom.filebase import DicomFileLike\n\nprint(__doc__)\n\nusage = \"Usage: python memory_dataset.py dicom_filename\"\n\n\ndef write_dataset_to_bytes(ds: Dataset) -> bytes:\n    # create a buffer\n    with BytesIO() as buffer:\n        # create a DicomFileLike object that has some properties of DataSet\n        memory_dataset = DicomFileLike(buffer)\n        # write the dataset to the DicomFileLike object\n        dcmwrite(memory_dataset, ds)\n        # to read from the object, you have to rewind it\n        memory_dataset.seek(0)\n        # read the contents as bytes\n        return memory_dataset.read()\n\n\ndef adapt_dataset_from_bytes(blob: bytes) -> Dataset:\n    # you can just read the dataset from the byte array\n    dataset = dcmread(BytesIO(blob))\n    # do some interesting stuff\n    dataset.is_little_endian = False\n    dataset.PatientName = \"Bond^James\"\n    dataset.PatientID = \"007\"\n    return dataset\n\n\nclass DummyDataBase:\n    def __init__(self) -> None:\n        self._blobs: dict[str, bytes] = {}\n\n    def save(self, name: str, blob: bytes) -> None:\n        self._blobs[name] = blob\n\n    def load(self, name: str) -> bytes | None:\n        return self._blobs.get(name)\n\n\nif __name__ == \"__main__\":\n    import sys\n\n    if len(sys.argv) != 2:\n        print(\"Please supply a dicom file name:\\n\")\n        print(usage)\n        sys.exit(-1)\n    file_path = sys.argv[1]\n    db = DummyDataBase()\n\n    # Convert a dataset to a byte array:\n    # - read the dataset from a file\n    dataset = dcmread(file_path)\n    print(dataset)\n    # - convert the dataset to bytes\n    ds_bytes = write_dataset_to_bytes(dataset)\n    # - save the bytes in some storage\n    db.save(\"dataset\", ds_bytes)\n\n    # Convert a byte array to a dataset:\n    # - get the bytes from storage\n    read_bytes = db.load(\"dataset\")\n    if read_bytes:\n        # - convert the bytes into a dataset and do something interesting with it\n        read_dataset = adapt_dataset_from_bytes(read_bytes)\n        print(read_dataset)\n        # - you can write your dataset to a file if wanted\n        dcmwrite(file_path + \"_new\", read_dataset)"
      ]
    }
  ],
  "metadata": {
    "kernelspec": {
      "display_name": "Python 3",
      "language": "python",
      "name": "python3"
    },
    "language_info": {
      "codemirror_mode": {
        "name": "ipython",
        "version": 3
      },
      "file_extension": ".py",
      "mimetype": "text/x-python",
      "name": "python",
      "nbconvert_exporter": "python",
      "pygments_lexer": "ipython3",
      "version": "3.11.13"
    }
  },
  "nbformat": 4,
  "nbformat_minor": 0
}