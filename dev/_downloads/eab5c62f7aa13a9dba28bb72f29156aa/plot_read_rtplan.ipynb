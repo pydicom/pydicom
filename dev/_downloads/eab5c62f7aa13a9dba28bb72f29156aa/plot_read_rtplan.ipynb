{
  "cells": [
    {
      "cell_type": "markdown",
      "metadata": {},
      "source": [
        "\n# Read RTPLAN DICOM and list information\n\nGiven an RTPLAN DICOM file, list basic info for the beams in it.\n"
      ]
    },
    {
      "cell_type": "code",
      "execution_count": null,
      "metadata": {
        "collapsed": false
      },
      "outputs": [],
      "source": [
        "# authors : Darcy Mason\n#           Guillaume Lemaitre <g.lemaitre58@gmail.com>\n# license : MIT\n\nimport pydicom\nfrom pydicom.data import get_testdata_file\n\nprint(__doc__)\n\n\ndef list_beams(ds: pydicom.Dataset) -> str:\n    \"\"\"Summarizes the RTPLAN beam information in the dataset.\"\"\"\n    lines = [f\"{'Beam name':^13s} {'Number':^8s} {'Gantry':^8s} {'SSD (cm)':^11s}\"]\n    for beam in ds.BeamSequence:\n        cp0 = beam.ControlPointSequence[0]\n        ssd = float(cp0.SourceToSurfaceDistance / 10)\n        lines.append(\n            f\"{beam.BeamName:^13s} {beam.BeamNumber:8d} {cp0.GantryAngle:8.1f} {ssd:8.1f}\"\n        )\n    return \"\\n\".join(lines)\n\n\npath = get_testdata_file(\"rtplan.dcm\")\nds = pydicom.dcmread(path)\nprint(list_beams(ds))"
      ]
    }
  ],
  "metadata": {
    "kernelspec": {
      "display_name": "Python 3",
      "language": "python",
      "name": "python3"
    },
    "language_info": {
      "codemirror_mode": {
        "name": "ipython",
        "version": 3
      },
      "file_extension": ".py",
      "mimetype": "text/x-python",
      "name": "python",
      "nbconvert_exporter": "python",
      "pygments_lexer": "ipython3",
      "version": "3.11.13"
    }
  },
  "nbformat": 4,
  "nbformat_minor": 0
}