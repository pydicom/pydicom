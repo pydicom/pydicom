{
  "cells": [
    {
      "cell_type": "markdown",
      "metadata": {},
      "source": [
        "\n# Add items to the private DICOM dictionary\n\nThis examples illustrates how to add private dictionary items to the DICOM\ndictionary dynamically. This allows you to read private tags not present in\npydicom's private dictionary when loading an existing dataset.\n"
      ]
    },
    {
      "cell_type": "code",
      "execution_count": null,
      "metadata": {
        "collapsed": false
      },
      "outputs": [],
      "source": [
        "# authors : Darcy Mason and pydicom contributors\n# license : MIT\n\nimport io\n\nfrom pydicom import dcmread\nfrom pydicom.datadict import add_private_dict_entries\nfrom pydicom.dataset import Dataset\nfrom pydicom.valuerep import VR\n\nprint(__doc__)\n\n# create a dataset with some private tags for demonstration\n# we create the dataset with Implicit VR Little Endian transfer syntax,\n# so that the VR of the private tags will not be saved\n\nds = Dataset()\nds.is_implicit_VR = True\nds.is_little_endian = True\n\n# add private tags by creating a new private block and add elements to it\nblock = ds.private_block(0x1001, \"ACME 3.1\", create=True)\nblock.add_new(0x01, VR.UL, 42)\nblock.add_new(0x02, VR.SH, \"Hello World\")\nblock.add_new(0x03, VR.UI, \"1.2.3.4.5\")\n\n# write the dataset into a memory file and read it back\n# this simulates reading from a normal DICOM file\nfp = io.BytesIO()\nds.save_as(fp)\nds = dcmread(fp, force=True)\n\nprint(\"Output for unknown private tags:\")\nprint(ds)\n\n# Creates output:\n# (1001,0010) Private Creator                     LO: 'ACME 3.1'\n# (1001,1001) Private tag data                    UN: b'*\\x00\\x00\\x00'\n# (1001,1002) Private tag data                    UN: b'Hello World '\n# (1001,1003) Private tag data                    UN: b'1.2.3.4.5\\x00'\n\n\n# Add the private tags to the private tag dictionary\n\n# Define items as (VR, VM, description, is_retired flag)\n# Leave is_retired flag blank.\nnew_dict_items = {\n    0x10011001: (\"UL\", \"1\", \"Test One\", \"\"),\n    0x10011002: (\"SH\", \"1\", \"Test Two\", \"\"),\n    0x10011003: (\"UI\", \"1\", \"Test Three\", \"\"),\n}\n\n# add the entries to the private dictionary, using the correct private creator string\nadd_private_dict_entries(private_creator=\"ACME 3.1\", new_entries_dict=new_dict_items)\n\n# re-read the dataset for the new dictionary entries to be applied\nds = dcmread(fp, force=True)\n\nprint(\"\\nOutput with registered private tags:\")\nprint(ds)\n\n# Creates output:\n# (1001,0010) Private Creator                     LO: 'ACME 3.1'\n# (1001,1001) [Test One]                          UL: 42\n# (1001,1002) [Test Two]                          SH: 'Hello World'\n# (1001,1003) [Test Three]                        UI: 1.2.3.4.5"
      ]
    }
  ],
  "metadata": {
    "kernelspec": {
      "display_name": "Python 3",
      "language": "python",
      "name": "python3"
    },
    "language_info": {
      "codemirror_mode": {
        "name": "ipython",
        "version": 3
      },
      "file_extension": ".py",
      "mimetype": "text/x-python",
      "name": "python",
      "nbconvert_exporter": "python",
      "pygments_lexer": "ipython3",
      "version": "3.11.13"
    }
  },
  "nbformat": 4,
  "nbformat_minor": 0
}