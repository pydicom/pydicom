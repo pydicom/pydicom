{
  "cells": [
    {
      "cell_type": "markdown",
      "metadata": {},
      "source": [
        "\n# Anonymize DICOM data\n\nThis example is a starting point to anonymize DICOM data.\n\nIt shows how to read data and replace tags: person names, patient ID,\noptionally remove curves and private tags, and write the results in a new file.\n"
      ]
    },
    {
      "cell_type": "markdown",
      "metadata": {},
      "source": [
        "## Anonymize a single file\n\n"
      ]
    },
    {
      "cell_type": "code",
      "execution_count": null,
      "metadata": {
        "collapsed": false
      },
      "outputs": [],
      "source": [
        "# authors : Darcy Mason\n#           Guillaume Lemaitre <g.lemaitre58@gmail.com>\n# license : MIT\n\nimport tempfile\n\nfrom pydicom import examples\n\nds = examples.mr\n\nfor keyword in [\"PatientID\", \"PatientBirthDate\"]:\n    print(ds.data_element(keyword))"
      ]
    },
    {
      "cell_type": "markdown",
      "metadata": {},
      "source": [
        "We can define a callback function to find all tags corresponding to a person\nnames inside the dataset. We can also define a callback function to remove\ncurves tags.\n\n"
      ]
    },
    {
      "cell_type": "code",
      "execution_count": null,
      "metadata": {
        "collapsed": false
      },
      "outputs": [],
      "source": [
        "def person_names_callback(ds, elem):\n    if elem.VR == \"PN\":\n        elem.value = \"anonymous\"\n\n\ndef curves_callback(ds, elem):\n    if elem.tag.group & 0xFF00 == 0x5000:\n        del ds[elem.tag]"
      ]
    },
    {
      "cell_type": "markdown",
      "metadata": {},
      "source": [
        "We can use the different callback function to iterate through the dataset but\nalso some other tags such that patient ID, etc.\n\n"
      ]
    },
    {
      "cell_type": "code",
      "execution_count": null,
      "metadata": {
        "collapsed": false
      },
      "outputs": [],
      "source": [
        "ds.PatientID = \"id\"\nds.walk(person_names_callback)\nds.walk(curves_callback)"
      ]
    },
    {
      "cell_type": "markdown",
      "metadata": {},
      "source": [
        "pydicom allows to remove private tags using ``remove_private_tags`` method\n\n"
      ]
    },
    {
      "cell_type": "code",
      "execution_count": null,
      "metadata": {
        "collapsed": false
      },
      "outputs": [],
      "source": [
        "ds.remove_private_tags()"
      ]
    },
    {
      "cell_type": "markdown",
      "metadata": {},
      "source": [
        "Data elements of type 3 (optional) can be easily deleted using ``del`` or\n``delattr``.\n\n"
      ]
    },
    {
      "cell_type": "code",
      "execution_count": null,
      "metadata": {
        "collapsed": false
      },
      "outputs": [],
      "source": [
        "if \"OtherPatientIDs\" in ds:\n    delattr(ds, \"OtherPatientIDs\")\n\nif \"OtherPatientIDsSequence\" in ds:\n    del ds.OtherPatientIDsSequence"
      ]
    },
    {
      "cell_type": "markdown",
      "metadata": {},
      "source": [
        "For data elements of type 2, this is possible to blank it by assigning a\nblank string.\n\n"
      ]
    },
    {
      "cell_type": "code",
      "execution_count": null,
      "metadata": {
        "collapsed": false
      },
      "outputs": [],
      "source": [
        "tag = \"PatientBirthDate\"\nif tag in ds:\n    ds.data_element(tag).value = \"19000101\""
      ]
    },
    {
      "cell_type": "markdown",
      "metadata": {},
      "source": [
        "Finally, this is possible to store the image\n\n"
      ]
    },
    {
      "cell_type": "code",
      "execution_count": null,
      "metadata": {
        "collapsed": false
      },
      "outputs": [],
      "source": [
        "for keyword in [\"PatientID\", \"PatientBirthDate\"]:\n    print(ds.data_element(keyword))\n\npath = tempfile.NamedTemporaryFile().name\nds.save_as(path)"
      ]
    }
  ],
  "metadata": {
    "kernelspec": {
      "display_name": "Python 3",
      "language": "python",
      "name": "python3"
    },
    "language_info": {
      "codemirror_mode": {
        "name": "ipython",
        "version": 3
      },
      "file_extension": ".py",
      "mimetype": "text/x-python",
      "name": "python",
      "nbconvert_exporter": "python",
      "pygments_lexer": "ipython3",
      "version": "3.11.13"
    }
  },
  "nbformat": 4,
  "nbformat_minor": 0
}